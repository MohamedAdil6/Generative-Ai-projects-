{
  "nbformat": 4,
  "nbformat_minor": 0,
  "metadata": {
    "colab": {
      "provenance": [],
      "authorship_tag": "ABX9TyOO1HdD8XhImn5auKUdaFbh",
      "include_colab_link": true
    },
    "kernelspec": {
      "name": "python3",
      "display_name": "Python 3"
    },
    "language_info": {
      "name": "python"
    }
  },
  "cells": [
    {
      "cell_type": "markdown",
      "metadata": {
        "id": "view-in-github",
        "colab_type": "text"
      },
      "source": [
        "<a href=\"https://colab.research.google.com/github/MohamedAdil6/Generative-Ai-projects-/blob/main/AI_translator.ipynb\" target=\"_parent\"><img src=\"https://colab.research.google.com/assets/colab-badge.svg\" alt=\"Open In Colab\"/></a>"
      ]
    },
    {
      "cell_type": "code",
      "execution_count": null,
      "metadata": {
        "id": "s2MW2aED0XdC"
      },
      "outputs": [],
      "source": [
        "{\n",
        "  \"nbformat\": 4,\n",
        "  \"nbformat_minor\": 0,\n",
        "  \"metadata\": {\n",
        "    \"colab\": {\n",
        "      \"provenance\": [],\n",
        "      \"authorship_tag\": \"ABX9TyNMlUiclKZBeLtXKmGt34gJ\",\n",
        "      \"include_colab_link\": True\n",
        "    },\n",
        "    \"kernelspec\": {\n",
        "      \"name\": \"python3\",\n",
        "      \"display_name\": \"Python 3\"\n",
        "    },\n",
        "    \"language_info\": {\n",
        "      \"name\": \"python\"\n",
        "    }\n",
        "  },\n",
        "  \"cells\": [\n",
        "    {\n",
        "      \"cell_type\": \"markdown\",\n",
        "      \"metadata\": {\n",
        "        \"id\": \"view-in-github\",\n",
        "        \"colab_type\": \"text\"\n",
        "      },\n",
        "      \"source\": [\n",
        "        \"<a href=\\\"https://colab.research.google.com/github/Shyam6002/Gen_AI_2025/blob/main/AI_Translator%202%20.ipynb\\\" target=\\\"_parent\\\"><img src=\\\"https://colab.research.google.com/assets/colab-badge.svg\\\" alt=\\\"Open In Colab\\\"/></a>\"\n",
        "      ]\n",
        "    },\n",
        "    {\n",
        "      \"cell_type\": \"code\",\n",
        "      \"execution_count\": None,\n",
        "      \"metadata\": {\n",
        "        \"id\": \"2k5fE-SmR2It\"\n",
        "      },\n",
        "      \"outputs\": [],\n",
        "      \"source\": [\n",
        "        \"!pip install sacremoses\\n\",\n",
        "        \"# Install required libraries\\n\",\n",
        "        \"!pip install -q gradio transformers sentencepiece\\n\",\n",
        "        \"\\n\",\n",
        "        \"import gradio as gr\\n\",\n",
        "        \"from transformers import MarianMTModel, MarianTokenizer\\n\",\n",
        "        \"\\n\",\n",
        "        \"# Load MarianMT English → French model & tokenizer\\n\",\n",
        "        \"model_name = 'Helsinki-NLP/opus-mt-en-fr'\\n\",\n",
        "        \"tokenizer = MarianTokenizer.from_pretrained(model_name)\\n\",\n",
        "        \"model = MarianMTModel.from_pretrained(model_name)\\n\",\n",
        "        \"\\n\",\n",
        "        \"# Translation function\\n\",\n",
        "        \"def genai_translate_to_french(text):\\n\",\n",
        "        \"    if not text.strip():\\n\",\n",
        "        \"        return \\\"Please enter some English text to translate.\\\"\\n\",\n",
        "        \"    tokens = tokenizer(text, return_tensors=\\\"pt\\\", padding=True, truncation=True)\\n\",\n",
        "        \"    translated = model.generate(**tokens)\\n\",\n",
        "        \"    return tokenizer.decode(translated[0], skip_special_tokens=True)\\n\",\n",
        "        \"\\n\",\n",
        "        \"# Create Gradio interface\\n\",\n",
        "        \"iface = gr.Interface(\\n\",\n",
        "        \"    fn=genai_translate_to_french,\\n\",\n",
        "        \"    inputs=gr.Textbox(lines=5, placeholder=\\\"Enter English text here...\\\"),\\n\",\n",
        "        \"    outputs=gr.Textbox(label=\\\"French Translation\\\"),\\n\",\n",
        "        \"    title=\\\"GenAI Language Translator\\\",\\n\",\n",
        "        \"    description=\\\"English → French translation using MarianMT (Helsinki-NLP). Powered by Hugging Face Transformers.\\\"\\n\",\n",
        "        \")\\n\",\n",
        "        \"\\n\",\n",
        "        \"# Launch the app\\n\",\n",
        "        \"iface.launch()\"\n",
        "      ]\n",
        "    }\n",
        "  ]\n",
        "}\n"
      ]
    }
  ]
}